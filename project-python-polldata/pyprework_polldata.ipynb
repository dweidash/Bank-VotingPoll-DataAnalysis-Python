{
 "cells": [
  {
   "cell_type": "code",
   "execution_count": 1,
   "metadata": {},
   "outputs": [],
   "source": [
    "#Import csv into the script\n",
    "import csv\n",
    "\n",
    "#Set variable csvpath to the pathway to our csv file containing our data.\n",
    "csvpath = \"C:\\\\Users\\\\DeWitt Tsai\\\\Desktop\\\\USC Bootcamp\\\\DT Week 3 - Homework\\\\python-challenge\\\\resources\\\\election_data.csv\"\n",
    "\n",
    "#Create a blank dictionary\n",
    "voteIndex = {}\n",
    "\n",
    "#Create variables (Maybe... i can define these as custom functions?)\n",
    "totalVotes = 0\n",
    "\n",
    "#Open the csv pathway as csvfile... \n",
    "with open(csvpath,newline='') as csvfile:\n",
    "\n",
    "    #and then use csvfile to create csvreader.\n",
    "    csvreader = csv.reader(csvfile,delimiter=',')\n",
    "    \n",
    "    #skip the header\n",
    "    next(csvreader)\n",
    "\n",
    "    # Make a loop so that for each row...\n",
    "    for row in csvreader:\n",
    "        \n",
    "        #we first increase the total vote count by 1 (starts from 0)\n",
    "        totalVotes += 1\n",
    "\n",
    "        # if else statement. This starts off to check if the candidate (on column 3 of the current row) is in our dictionary...\n",
    "\n",
    "        #if the candidate is NOT inside our dictionary...\n",
    "        if row[2] not in voteIndex.keys():\n",
    "\n",
    "            # Add the candidate into the dictionary and assign him with a starting value of 1.\n",
    "            voteIndex.update({row[2]:1}) \n",
    "\n",
    "        #otherwise...\n",
    "        else:\n",
    "            # If the candidate is in our dictionary, then add 1 to their stored value!\n",
    "            voteIndex[row[2]] += 1"
   ]
  },
  {
   "cell_type": "code",
   "execution_count": 2,
   "metadata": {},
   "outputs": [],
   "source": [
    "#List of candidate names\n",
    "listCandidate = [ k for k in voteIndex ]\n",
    " \n",
    "#List of candidate's votes\n",
    "listVotes = [v for v in voteIndex.values()]\n",
    "\n",
    "#List of candidate's percentages using a loop. In order to automate the list, we need to know the total amount of ticks.\n",
    "listCountdown = len(voteIndex)#ticker down counter\n",
    "listPercentages = []#defining the empty list for percentages\n",
    "\n",
    "\n",
    "\n",
    "#looping down the countdown...\n",
    "for z in range(0,listCountdown):\n",
    "    \n",
    "    #Step 1: Calculate the percentage value\n",
    "    percBase = (listVotes[z]/totalVotes*100)\n",
    "    \n",
    "    #Step 2: Format the value to 3 decimal places\n",
    "    percForm = format(percBase,'.3f')\n",
    "    \n",
    "    #Step 3: Insert new value into the list as a string including the '%' symbol\n",
    "    listPercentages.append(percForm+'%')"
   ]
  },
  {
   "cell_type": "code",
   "execution_count": 3,
   "metadata": {},
   "outputs": [
    {
     "name": "stdout",
     "output_type": "stream",
     "text": [
      "['Khan', 'Correy', 'Li', \"O'Tooley\"]\n",
      "[2218231, 704200, 492940, 105630]\n",
      "['63.000%', '20.000%', '14.000%', '3.000%']\n"
     ]
    }
   ],
   "source": [
    "print(listCandidate)\n",
    "print(listVotes)\n",
    "print(listPercentages)"
   ]
  },
  {
   "cell_type": "code",
   "execution_count": 67,
   "metadata": {},
   "outputs": [],
   "source": [
    "#Variable to track who is the winner based off on vote tallies from the list listVotes\n",
    "\n",
    "#Define these variables as ints at 0\n",
    "winVotes = 0 #Test will be used to fuel the if statement.\n",
    "winPosition = 0 #Tag will be used to keep track of which # in the list the highest value is located at.\n",
    "\n",
    "#for loop that will start from the initial value to the last one - this is designated thanks to listCountdown.\n",
    "for z in range(0,listCountdown):\n",
    "    \n",
    "    #if the current value of winnerTest is less than the current total vote tally...\n",
    "    if  winVotes < listVotes[z]:\n",
    "        \n",
    "        #winnerTest will be set to equal the vote tally amount to keep track who has the largest value.\n",
    "        winVotes = listVotes[z]\n",
    "        \n",
    "        #if winnerTest is updated, the winPosition will be updated to hold its counter \"z\" value.\n",
    "        winPosition = z"
   ]
  },
  {
   "cell_type": "code",
   "execution_count": 85,
   "metadata": {},
   "outputs": [
    {
     "name": "stdout",
     "output_type": "stream",
     "text": [
      "\n",
      "Election Analysis\n",
      "-------------------------\n",
      "Total Votes: 3521001\n",
      "-------------------------\n",
      "Khan: 63.000% (2218231)\n",
      "Correy: 20.000% (704200)\n",
      "Li: 14.000% (492940)\n",
      "O'Tooley: 3.000% (105630)\n",
      "-------------------------\n",
      "Winner: Khan\n",
      "-------------------------\n"
     ]
    }
   ],
   "source": [
    "#PRINT SECTION\n",
    "\n",
    "#First, lets print out the first section that does not require any iterations.\n",
    "print(\n",
    "    f'\\nElection Analysis\\n'\n",
    "    f'-------------------------\\n'\n",
    "    f'Total Votes: {totalVotes}\\n'\n",
    "    f'-------------------------')\n",
    "\n",
    "#Second, let's make an iteration that goes from 0 to 3 (thanks to listCountdown) and print out the results per candidate.\n",
    "for y in range(0,listCountdown):\n",
    "    \n",
    "    print(f\"{listCandidate[y]}: {listPercentages[y]} ({listVotes[y]})\")\n",
    "\n",
    "#Lastly, lets print out the grand winner. No iteration required means that this part is very simple.\n",
    "print(\n",
    "    f'-------------------------\\n'\n",
    "    f'Winner: {listCandidate[winPosition]}\\n'\n",
    "    f'-------------------------')"
   ]
  },
  {
   "cell_type": "code",
   "execution_count": 84,
   "metadata": {},
   "outputs": [],
   "source": [
    "#EXPORT SECTION\n",
    "#Let's export a text file that is named ElectionAnalysis.txt and open it into write mode.\n",
    "exportResults = open(\"ElectionAnalysis.txt\",\"w\")\n",
    "\n",
    "#Let's then write into the text file the first section...\n",
    "exportResults.write(\n",
    "    f'\\nElection Analysis\\n'\n",
    "    f'-------------------------\\n'\n",
    "    f'Total Votes: {totalVotes}\\n'\n",
    "    f'-------------------------\\n')\n",
    "\n",
    "#And then continue to write (using the same format as the PRINT section but using .write instead) the data results.\n",
    "for y in range(0,listCountdown):\n",
    "    \n",
    "    #Basically, this will iterate as y goes from 0 to 3 and will spit out a report one by one.\n",
    "    exportResults.write(f\"{listCandidate[y]}: {listPercentages[y]} ({listVotes[y]})\\n\")\n",
    "\n",
    "#Finally, it will write the last bit to notate who is the winner.\n",
    "exportResults.write(\n",
    "    f'-------------------------\\n'\n",
    "    f'Winner: {listCandidate[winPosition]}\\n'\n",
    "    f'-------------------------')\n",
    "\n",
    "#Lastly, a simple close statement to finish writing inside our .txt file.\n",
    "exportResults.close()"
   ]
  }
 ],
 "metadata": {
  "kernelspec": {
   "display_name": "Python 3",
   "language": "python",
   "name": "python3"
  },
  "language_info": {
   "codemirror_mode": {
    "name": "ipython",
    "version": 3
   },
   "file_extension": ".py",
   "mimetype": "text/x-python",
   "name": "python",
   "nbconvert_exporter": "python",
   "pygments_lexer": "ipython3",
   "version": "3.7.3"
  }
 },
 "nbformat": 4,
 "nbformat_minor": 2
}
