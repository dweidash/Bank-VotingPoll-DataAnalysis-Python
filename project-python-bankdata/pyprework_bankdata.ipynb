{
 "cells": [
  {
   "cell_type": "code",
   "execution_count": 133,
   "metadata": {},
   "outputs": [],
   "source": [
    "#First let's import os and csv since we will be utilizing that for the banking exercise.\n",
    "import csv"
   ]
  },
  {
   "cell_type": "code",
   "execution_count": 134,
   "metadata": {},
   "outputs": [],
   "source": [
    "#Let's open the file located in /resources.\n",
    "csvpath = \"C:\\\\Users\\\\DeWitt Tsai\\\\Desktop\\\\USC Bootcamp\\\\DT Week 3 - Homework\\\\python-challenge\\\\resources\\\\budget_data.csv\""
   ]
  },
  {
   "cell_type": "code",
   "execution_count": 135,
   "metadata": {},
   "outputs": [],
   "source": [
    "#Create variables (Maybe... i can define these as custom functions?)\n",
    "totalmonths = 0\n",
    "totalamount = 0\n",
    "totalaverage = 0\n",
    "incValue = 0\n",
    "decValue = 0\n",
    "deltaList = []\n",
    "delta1 = 0\n",
    "delta2 = 0\n",
    "deltaValue = 0"
   ]
  },
  {
   "cell_type": "code",
   "execution_count": 136,
   "metadata": {},
   "outputs": [],
   "source": [
    "#Now, we need to create a loop that will go through the entire csv file and will do the following:\n",
    "with open(csvpath,newline='') as csvfile:\n",
    "    csvreader = csv.reader(csvfile,delimiter=',')\n",
    "    \n",
    "    next(csvreader)\n",
    "    \n",
    "    for row in csvreader:\n",
    "\n",
    "        # 1. Count how many months we have gone through\n",
    "        totalmonths += 1\n",
    "        \n",
    "        rowamt = int(row[1])\n",
    "\n",
    "        # 2. Get the total sum of the dollar amount of all month values\n",
    "        totalamount += rowamt\n",
    "\n",
    "        # 3. Keep track of the highest profit value and take note of its date.\n",
    "        if incValue < rowamt:\n",
    "            incValue = rowamt\n",
    "            incDate = row[0]\n",
    "\n",
    "        # 4. Keep track of the lowest profit value and take note of its date.\n",
    "        elif decValue > rowamt:\n",
    "            decValue = rowamt\n",
    "            decDate = row[0]\n",
    "            \n",
    "        #5. Add to list_delta the change of this value\n",
    "        if delta1 == 0:\n",
    "            delta1 = rowamt\n",
    "        \n",
    "        elif delta1 != 0:\n",
    "            delta2 = rowamt\n",
    "            deltaValue = delta2 - delta1\n",
    "            deltaList.append(deltaValue)"
   ]
  },
  {
   "cell_type": "code",
   "execution_count": 137,
   "metadata": {},
   "outputs": [],
   "source": [
    "#Afterwards, outside of the loop, have the script calculate the average by dividing totalamount by totalmonth.\n",
    "#But first, let's convert our values to floating values\n",
    "\n",
    "#float(totalamount)\n",
    "\n",
    "#float(totalmonths)\n",
    "\n",
    "totalaverage = totalamount/totalmonths"
   ]
  },
  {
   "cell_type": "code",
   "execution_count": 138,
   "metadata": {},
   "outputs": [
    {
     "name": "stdout",
     "output_type": "stream",
     "text": [
      "\n",
      "Financial Analysis\n",
      "----------------------------\n",
      "Total Months: 86\n",
      "Total: $38382578\n",
      "Average Change: $446309.0465116279\n",
      "Greatest Increase in Profits: Feb-2012 ($1170593)\n",
      "Greatest Decrease in Profits: Sep-2013 ($-1196225)\n",
      "\n"
     ]
    }
   ],
   "source": [
    "summary = (\n",
    "    f'\\nFinancial Analysis\\n'\n",
    "    f'----------------------------\\n'\n",
    "    f'Total Months: {totalmonths}\\n'\n",
    "    f'Total: ${totalamount}\\n'\n",
    "    f'Average Change: ${totalaverage}\\n'\n",
    "    f'Greatest Increase in Profits: {incDate} (${incValue})\\n'\n",
    "    f'Greatest Decrease in Profits: {decDate} (${decValue})\\n')\n",
    "\n",
    "print(summary)"
   ]
  },
  {
   "cell_type": "code",
   "execution_count": 139,
   "metadata": {},
   "outputs": [
    {
     "name": "stdout",
     "output_type": "stream",
     "text": [
      "[116771, -545871, -937301, -557381, -345027, 165212, -262999, -1084270, -390352, 25926, -948237, -88078, -1203087, -170039, -74721, -382814, -283762, -805155, -199705, 32022, -33165, -735881, -557906, -1623450, 302709, -615096, 283634, -50628, -297127, -361182, -1890418, -392822, -87908, -723709, -325390, -508551, -546415, -800104, -396449, -302281, 4596, -78404, 132058, -2064109, -598887, -1555870, 282577, -185426, -250028, -43786, -285941, -735020, -419822, -178723, -67183, 298759, 79449, -289216, 120621, 271831, 161587, -180351, -1392510, -709264, -780089, -444495, -27161, -299355, -535817, 121615, -89647, -217884, -1968271, -1042830, -110741, -422175, -154923, -2031681, -297985, -99434, -765199, -71970, -806896, -729654, -196785]\n"
     ]
    }
   ],
   "source": [
    "print(deltaList)"
   ]
  },
  {
   "cell_type": "code",
   "execution_count": 141,
   "metadata": {},
   "outputs": [
    {
     "ename": "TypeError",
     "evalue": "'int' object is not callable",
     "output_type": "error",
     "traceback": [
      "\u001b[1;31m---------------------------------------------------------------------------\u001b[0m",
      "\u001b[1;31mTypeError\u001b[0m                                 Traceback (most recent call last)",
      "\u001b[1;32m<ipython-input-141-24cfa7e142d2>\u001b[0m in \u001b[0;36m<module>\u001b[1;34m\u001b[0m\n\u001b[1;32m----> 1\u001b[1;33m \u001b[0mvariable\u001b[0m \u001b[1;33m=\u001b[0m \u001b[0msum\u001b[0m\u001b[1;33m(\u001b[0m\u001b[0mdeltaList\u001b[0m\u001b[1;33m)\u001b[0m\u001b[1;33m\u001b[0m\u001b[1;33m\u001b[0m\u001b[0m\n\u001b[0m",
      "\u001b[1;31mTypeError\u001b[0m: 'int' object is not callable"
     ]
    }
   ],
   "source": [
    "variable = sum(deltaList)"
   ]
  },
  {
   "cell_type": "code",
   "execution_count": null,
   "metadata": {},
   "outputs": [],
   "source": []
  }
 ],
 "metadata": {
  "kernelspec": {
   "display_name": "Python 3",
   "language": "python",
   "name": "python3"
  },
  "language_info": {
   "codemirror_mode": {
    "name": "ipython",
    "version": 3
   },
   "file_extension": ".py",
   "mimetype": "text/x-python",
   "name": "python",
   "nbconvert_exporter": "python",
   "pygments_lexer": "ipython3",
   "version": "3.7.3"
  }
 },
 "nbformat": 4,
 "nbformat_minor": 2
}
