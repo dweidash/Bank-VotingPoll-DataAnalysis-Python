{
 "cells": [
  {
   "cell_type": "code",
   "execution_count": 1,
   "metadata": {},
   "outputs": [],
   "source": [
    "#First let's import os and csv since we will be utilizing that for the banking exercise.\n",
    "import csv"
   ]
  },
  {
   "cell_type": "code",
   "execution_count": 2,
   "metadata": {},
   "outputs": [],
   "source": [
    "#Let's open the file located in /resources.\n",
    "csvpath = \"C:\\\\Users\\\\DeWitt Tsai\\\\Desktop\\\\USC Bootcamp\\\\DT Week 3 - Homework\\\\python-challenge\\\\resources\\\\budget_data.csv\""
   ]
  },
  {
   "cell_type": "code",
   "execution_count": 3,
   "metadata": {},
   "outputs": [],
   "source": [
    "#Create variables (Maybe... i can define these as custom functions?)\n",
    "totalmonths = 0\n",
    "totalamount = 0\n",
    "totalaverage = 0\n",
    "incValue = 0\n",
    "decValue = 0\n",
    "deltaList = []\n",
    "delta1 = 0\n",
    "delta2 = 0\n",
    "deltaValue = 0"
   ]
  },
  {
   "cell_type": "code",
   "execution_count": 4,
   "metadata": {},
   "outputs": [],
   "source": [
    "#Now, we need to create a loop that will go through the entire csv file and will do the following:\n",
    "with open(csvpath,newline='') as csvfile:\n",
    "    csvreader = csv.reader(csvfile,delimiter=',')\n",
    "    \n",
    "    next(csvreader)\n",
    "    \n",
    "    for row in csvreader:\n",
    "\n",
    "        # 1. Count how many months we have gone through\n",
    "        totalmonths += 1\n",
    "        \n",
    "        rowamt = int(row[1])\n",
    "\n",
    "        # 2. Get the total sum of the dollar amount of all month values\n",
    "        totalamount += rowamt\n",
    "        \n",
    "        # 3. Run a loop so we can create a list of changes between all values in the csv file.\n",
    "        if delta1 == 0:\n",
    "            delta1 = rowamt\n",
    "        \n",
    "        elif delta1 != 0:\n",
    "            delta2 = rowamt\n",
    "            deltaValue = delta2 - delta1\n",
    "            deltaList.append(deltaValue)\n",
    "            delta1 = rowamt\n",
    "\n",
    "        # 4. Keep track of the highest profit value and take note of its date.\n",
    "        if incValue < deltaValue:\n",
    "            incValue = deltaValue\n",
    "            incDate = row[0]\n",
    "\n",
    "        # 5. Keep track of the lowest profit value and take note of its date.\n",
    "        elif decValue > deltaValue:\n",
    "            decValue = deltaValue\n",
    "            decDate = row[0]\n",
    "            \n"
   ]
  },
  {
   "cell_type": "code",
   "execution_count": 5,
   "metadata": {},
   "outputs": [],
   "source": [
    "#Now, its time to do some math with the list we've created with #3 from our 'with' iteration.\n",
    "deltaSum = sum(deltaList)\n",
    "deltaAvg = deltaSum/len(deltaList)"
   ]
  },
  {
   "cell_type": "code",
   "execution_count": 6,
   "metadata": {},
   "outputs": [
    {
     "name": "stdout",
     "output_type": "stream",
     "text": [
      "\n",
      "Financial Analysis\n",
      "----------------------------\n",
      "Total Months: 86\n",
      "Total: $38382578\n",
      "Average Change: $-2315.1176470588234\n",
      "Greatest Increase in Profits: Feb-2012 ($1926159)\n",
      "Greatest Decrease in Profits: Sep-2013 ($-2196167)\n",
      "\n"
     ]
    }
   ],
   "source": [
    "summary = (\n",
    "    f'\\nFinancial Analysis\\n'\n",
    "    f'----------------------------\\n'\n",
    "    f'Total Months: {totalmonths}\\n'\n",
    "    f'Total: ${totalamount}\\n'\n",
    "    f'Average Change: ${deltaAvg}\\n'\n",
    "    f'Greatest Increase in Profits: {incDate} (${incValue})\\n'\n",
    "    f'Greatest Decrease in Profits: {decDate} (${decValue})\\n')\n",
    "\n",
    "print(summary)"
   ]
  },
  {
   "cell_type": "code",
   "execution_count": null,
   "metadata": {},
   "outputs": [],
   "source": []
  }
 ],
 "metadata": {
  "kernelspec": {
   "display_name": "Python 3",
   "language": "python",
   "name": "python3"
  },
  "language_info": {
   "codemirror_mode": {
    "name": "ipython",
    "version": 3
   },
   "file_extension": ".py",
   "mimetype": "text/x-python",
   "name": "python",
   "nbconvert_exporter": "python",
   "pygments_lexer": "ipython3",
   "version": "3.7.3"
  }
 },
 "nbformat": 4,
 "nbformat_minor": 2
}
